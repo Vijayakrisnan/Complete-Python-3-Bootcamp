{
  "nbformat": 4,
  "nbformat_minor": 0,
  "metadata": {
    "colab": {
      "provenance": [],
      "authorship_tag": "ABX9TyOyj6vDjkkKDzzsPQdmjMpt",
      "include_colab_link": true
    },
    "kernelspec": {
      "name": "python3",
      "display_name": "Python 3"
    },
    "language_info": {
      "name": "python"
    }
  },
  "cells": [
    {
      "cell_type": "markdown",
      "metadata": {
        "id": "view-in-github",
        "colab_type": "text"
      },
      "source": [
        "<a href=\"https://colab.research.google.com/github/Vijayakrisnan/Complete-Python-3-Bootcamp/blob/master/McDonalds_python.ipynb\" target=\"_parent\"><img src=\"https://colab.research.google.com/assets/colab-badge.svg\" alt=\"Open In Colab\"/></a>"
      ]
    },
    {
      "cell_type": "code",
      "execution_count": null,
      "metadata": {
        "id": "E-qUSQKFklyx"
      },
      "outputs": [],
      "source": [
        "import pandas as pd\n",
        "\n",
        "mcdonalds = pd.read_csv('https://raw.githubusercontent.com/terrytangyuan/MSA/master/data/mcdonalds.csv')\n",
        "list(mcdonalds.columns.values)\n"
      ]
    },
    {
      "cell_type": "code",
      "source": [
        "import numpy as np\n",
        "\n",
        "np.shape(mcdonalds)\n"
      ],
      "metadata": {
        "id": "GRkQpyyZkzGZ"
      },
      "execution_count": null,
      "outputs": []
    },
    {
      "cell_type": "code",
      "source": [
        "print(mcdonalds.head(3))\n"
      ],
      "metadata": {
        "id": "KzWGi4obk-IK"
      },
      "execution_count": null,
      "outputs": []
    },
    {
      "cell_type": "code",
      "source": [
        "MD_x = mcdonalds.iloc[:, 0:11].values\n",
        "MD_x = (MD_x == \"Yes\").astype(int)\n",
        "rounded_col_means = np.round(np.mean(MD_x, axis=0), 2)\n",
        "\n",
        "print(rounded_col_means)"
      ],
      "metadata": {
        "id": "nSo5XIxBlEFi"
      },
      "execution_count": null,
      "outputs": []
    },
    {
      "cell_type": "code",
      "source": [
        "from sklearn.decomposition import PCA\n",
        "# Create a PCA object and fit the data\n",
        "pca = PCA()\n",
        "MD_pca = pca.fit_transform(MD_x)\n",
        "\n",
        "# Print the summary\n",
        "print(\"Proportion of Variance Explained:\")\n",
        "print(pca.explained_variance_ratio_)\n",
        "print(\"\\nPrincipal Components:\")\n",
        "print(pca.components_)\n"
      ],
      "metadata": {
        "id": "aGmvYZzNl048"
      },
      "execution_count": 1,
      "outputs": []
    },
    {
      "cell_type": "code",
      "source": [
        "# Set the number of digits for printing\n",
        "digits = 1\n",
        "\n",
        "# Print the PCA results with specified number of digits\n",
        "np.set_printoptions(precision=digits)\n",
        "print(np.round(MD_pca, digits))"
      ],
      "metadata": {
        "id": "g1cbI97il1up"
      },
      "execution_count": null,
      "outputs": []
    },
    {
      "cell_type": "code",
      "source": [
        "import matplotlib.pyplot as plt\n",
        "# Plotting the PCA results\n",
        "plt.scatter(MD_pca[:, 0], MD_pca[:, 1], color='grey')\n",
        "plt.xlabel('PC1')\n",
        "plt.ylabel('PC2')\n",
        "plt.show()\n",
        "\n",
        "# Projecting axes onto the PCA plot\n",
        "# Obtain the principal components' loadings (eigenvectors)\n",
        "loadings = pca.components_\n",
        "\n",
        "# Plotting the projected axes\n",
        "plt.scatter(MD_pca[:, 0], MD_pca[:, 1], color='grey')\n",
        "plt.xlabel('PC1')\n",
        "plt.ylabel('PC2')\n",
        "\n",
        "# Scaling factor for projecting the axes\n",
        "scale = np.max(np.abs(MD_pca))\n",
        "\n",
        "# Plotting the projected axes\n",
        "for i, (x, y) in enumerate(loadings[:2].T * scale):\n",
        "    plt.arrow(0, 0, x, y, color='r', alpha=0.5)\n",
        "    plt.text(x, y, f\"Feature {i+1}\", color='r')\n",
        "\n",
        "plt.show()"
      ],
      "metadata": {
        "id": "ADx_ZJtVmp9Q"
      },
      "execution_count": null,
      "outputs": []
    },
    {
      "cell_type": "code",
      "source": [
        "from sklearn.cluster import KMeans"
      ],
      "metadata": {
        "id": "mIxfmVz4mvAH"
      },
      "execution_count": 2,
      "outputs": []
    },
    {
      "cell_type": "code",
      "source": [
        "# Set the random seed\n",
        "np.random.seed(1234)\n",
        "\n",
        "# Define the range of cluster numbers to consider\n",
        "n_clusters_range = range(2, 9)\n",
        "\n",
        "# Perform K-means clustering with multiple initializations\n",
        "best_kmeans = None\n",
        "best_silhouette_score = -1\n",
        "n_rep = 10\n",
        "\n",
        "for n_clusters in n_clusters_range:\n",
        "    silhouette_scores = []\n",
        "\n",
        "    for _ in range(n_rep):\n",
        "        # Create a K-means object\n",
        "        kmeans = KMeans(n_clusters=n_clusters)\n",
        "\n",
        "        # Fit the K-means model to the data\n",
        "        kmeans.fit(MD_x)\n",
        "\n",
        "        # Obtain the Silhouette score\n",
        "        silhouette_score = metrics.silhouette_score(MD_x, kmeans.labels_)\n",
        "        silhouette_scores.append(silhouette_score)\n",
        "\n",
        "    # Average Silhouette score for the current number of clusters\n",
        "    avg_silhouette_score = np.mean(silhouette_scores)\n",
        "\n",
        "    # Update the best K-means model if the current score is higher\n",
        "    if avg_silhouette_score > best_silhouette_score:\n",
        "        best_silhouette_score = avg_silhouette_score\n",
        "        best_kmeans = kmeans\n",
        "\n",
        "# Relabel the clusters\n",
        "labels = best_kmeans.labels_\n",
        "unique_labels = np.unique(labels)\n",
        "n_clusters = len(unique_labels)\n",
        "relabel_dict = {unique_labels[i]: i for i in range(n_clusters)}\n",
        "relabelled_labels = [relabel_dict[label] for label in labels]\n",
        "\n",
        "# Assign the relabelled labels to the cluster result\n",
        "MD_kmeans = relabelled_labels"
      ],
      "metadata": {
        "id": "3WuynDWOnMan"
      },
      "execution_count": null,
      "outputs": []
    },
    {
      "cell_type": "code",
      "source": [
        "plt.plot(range(2, 9), MD_kmeans, marker='o')\n",
        "plt.xlabel(\"number of segments\")\n",
        "plt.ylabel(\"Cluster label\")\n",
        "plt.title(\"K-means Clustering\")\n",
        "plt.show()"
      ],
      "metadata": {
        "id": "FcplMzBnnOaq"
      },
      "execution_count": null,
      "outputs": []
    },
    {
      "cell_type": "code",
      "source": [
        "from sklearn.utils import resample\n",
        "from sklearn.metrics import adjusted_rand_score"
      ],
      "metadata": {
        "id": "pldXLfiHnyJF"
      },
      "execution_count": null,
      "outputs": []
    },
    {
      "cell_type": "code",
      "source": [
        "# Set the random seed\n",
        "np.random.seed(1234)\n",
        "\n",
        "# Create an empty list to store the bootstrap results\n",
        "bootstrap_results = []\n",
        "\n",
        "# Iterate over the number of segments\n",
        "for n_segments in range(2, 9):\n",
        "    # Create an empty list to store the adjusted Rand index for each bootstrap iteration\n",
        "    adjusted_rand_indices = []\n",
        "\n",
        "    # Perform bootstrap resampling and clustering\n",
        "    for _ in range(100):\n",
        "        # Bootstrap resampling\n",
        "        boot_sample = resample(MD_x, random_state=1234)\n",
        "\n",
        "        # K-means clustering\n",
        "        kmeans = KMeans(n_clusters=n_segments, random_state=1234)\n",
        "        labels = kmeans.fit_predict(boot_sample)\n",
        "\n",
        "        # Calculate the adjusted Rand index\n",
        "        adjusted_rand = adjusted_rand_score(MD_kmeans[\"4\"], labels)\n",
        "        adjusted_rand_indices.append(adjusted_rand)\n",
        "\n",
        "    # Store the bootstrap results for the current number of segments\n",
        "    bootstrap_results.append(adjusted_rand_indices)\n",
        "\n",
        "# Plot the bootstrap results\n",
        "plt.plot(range(2, 9), np.mean(bootstrap_results, axis=1), marker='o')\n",
        "plt.xlabel(\"number of segments\")\n",
        "plt.ylabel(\"adjusted Rand index\")\n",
        "plt.title(\"Bootstrapping with Flexclust\")\n",
        "plt.show()\n",
        "\n",
        "# Plot the histogram for the cluster label \"4\" in the K-means results\n",
        "plt.hist(MD_kmeans[\"4\"], bins=np.arange(0, 2), edgecolor='black')\n",
        "plt.xlabel(\"Cluster label\")\n",
        "plt.ylabel(\"Frequency\")\n",
        "plt.title(\"Histogram of Cluster Label '4'\")\n",
        "plt.xlim(0, 1)\n",
        "plt.show()"
      ],
      "metadata": {
        "id": "YQinFAcgnyV_"
      },
      "execution_count": null,
      "outputs": []
    },
    {
      "cell_type": "code",
      "source": [
        "from tslearn.clustering import sliding_window\n",
        "\n",
        "# Calculate segment stability using sliding_window\n",
        "segment_stability = sliding_window(MD_x, MD_kmeans[\"4\"])\n",
        "\n",
        "# Plot segment stability\n",
        "plt.plot(segment_stability, marker='o')\n",
        "plt.ylim(0, 1)\n",
        "plt.xlabel(\"segment number\")\n",
        "plt.ylabel(\"segment stability\")\n",
        "plt.title(\"Segment Stability with Flexclust\")\n",
        "plt.show()\n",
        "\n"
      ],
      "metadata": {
        "id": "wCRci26GoP7h"
      },
      "execution_count": null,
      "outputs": []
    },
    {
      "cell_type": "code",
      "source": [
        "\n",
        "from sklearn.mixture import GaussianMixture\n",
        "\n",
        "np.random.seed(1234)\n",
        "MD_m28 = None\n",
        "for k in range(2, 9):\n",
        "    for n in range(10):\n",
        "        model = GaussianMixture(n_components=k, covariance_type='full')\n",
        "        model.fit(MD_x)\n",
        "        if MD_m28 is None or model.bic(MD_x) < MD_m28.bic(MD_x):\n",
        "            MD_m28 = model\n"
      ],
      "metadata": {
        "id": "597NcFkHopoy"
      },
      "execution_count": null,
      "outputs": []
    },
    {
      "cell_type": "code",
      "source": [
        "# Plot information criteria\n",
        "plt.plot(MD_m28.ICL, label='ICL')\n",
        "plt.plot(MD_m28.AIC, label='AIC')\n",
        "plt.plot(MD_m28.BIC, label='BIC')\n",
        "\n",
        "# Set labels and legend\n",
        "plt.xlabel('Number of segments')\n",
        "plt.ylabel('Value of information criteria')\n",
        "plt.legend()\n",
        "\n",
        "# Show the plot\n",
        "plt.show()"
      ],
      "metadata": {
        "id": "ZpFMCKs7o9bV"
      },
      "execution_count": null,
      "outputs": []
    },
    {
      "cell_type": "code",
      "source": [
        "kmeans = KMeans(n_clusters=4).fit(MD.x)\n",
        "gmm = GaussianMixture(n_components=4).fit(MD.x)\n",
        "\n",
        "table = np.column_stack((kmeans.labels_, gmm.predict(MD.x)))"
      ],
      "metadata": {
        "id": "YuSdrtQbpHwD"
      },
      "execution_count": null,
      "outputs": []
    },
    {
      "cell_type": "code",
      "source": [
        "log_likelihood = MD_m4a.log_likelihood\n",
        "print(log_likelihood)"
      ],
      "metadata": {
        "id": "FMhMqqGfpcFd"
      },
      "execution_count": null,
      "outputs": []
    },
    {
      "cell_type": "code",
      "source": [
        "like_counts = mcdonalds['Like'].value_counts().sort_index(ascending=False)\n",
        "like_counts.index.name = 'Like.n'\n",
        "like_counts.reset_index(inplace=True)\n",
        "like_counts['Like.n'] = 6 - like_counts['Like.n']\n",
        "like_counts.set_index('Like.n', inplace=True)\n",
        "print(like_counts)"
      ],
      "metadata": {
        "id": "YhXR-daKpcNx"
      },
      "execution_count": null,
      "outputs": []
    },
    {
      "cell_type": "code",
      "source": [
        "f = \"+\".join(list(mcdonalds.columns)[:11])\n",
        "f = \"Like.n ~ \" + f\n",
        "f = pd.Formula(f)\n",
        "f\n"
      ],
      "metadata": {
        "id": "AybnQUcjqJDk"
      },
      "execution_count": null,
      "outputs": []
    },
    {
      "cell_type": "code",
      "source": [
        "np.random.seed(1234)\n",
        "MD_reg2 = GaussianMixture(n_components=2, n_init=10, verbose=0).fit(mcdonalds[f])\n",
        "print(MD_reg2)"
      ],
      "metadata": {
        "id": "FkLUkz7RqeII"
      },
      "execution_count": null,
      "outputs": []
    },
    {
      "cell_type": "code",
      "source": [
        "np.random.seed(1234)\n",
        "\n",
        "# Assuming 'f' is the formula for regression model\n",
        "# Assuming 'mcdonalds' is the DataFrame containing the data\n",
        "\n",
        "# Convert the DataFrame to a numpy array\n",
        "data = mcdonalds.to_numpy()\n",
        "\n",
        "# Extract the response variable from the data\n",
        "response = data[:, 0]\n",
        "\n",
        "# Extract the predictor variables from the data\n",
        "predictors = data[:, 1:]\n",
        "\n",
        "# Fit the Gaussian Mixture Model\n",
        "gmm = GaussianMixture(n_components=2, n_init=10, random_state=1234)\n",
        "gmm.fit(predictors)\n",
        "\n",
        "# Get the cluster labels\n",
        "clusters = gmm.predict(predictors)\n",
        "\n",
        "# Add the cluster labels to the DataFrame\n",
        "mcdonalds['Cluster'] = clusters\n",
        "\n",
        "print(mcdonalds)"
      ],
      "metadata": {
        "id": "usVfKHHKq_kK"
      },
      "execution_count": null,
      "outputs": []
    },
    {
      "cell_type": "code",
      "source": [
        "from sklearn.linear_model import LinearRegression\n",
        "from sklearn.compose import TransformedTargetRegressor\n",
        "\n",
        "np.random.seed(1234)\n",
        "\n",
        "# Assuming 'f' is the formula for regression model\n",
        "# Assuming 'mcdonalds' is the DataFrame containing the data\n",
        "\n",
        "# Convert the DataFrame to a numpy array\n",
        "data = mcdonalds.to_numpy()\n",
        "\n",
        "# Extract the response variable from the data\n",
        "response = data[:, 0]\n",
        "\n",
        "# Extract the predictor variables from the data\n",
        "predictors = data[:, 1:]\n",
        "\n",
        "# Fit the Gaussian Mixture Model\n",
        "gmm = GaussianMixture(n_components=2, n_init=10, random_state=1234)\n",
        "gmm.fit(predictors)\n",
        "\n",
        "# Get the cluster labels\n",
        "clusters = gmm.predict(predictors)\n",
        "\n",
        "# Add the cluster labels to the DataFrame\n",
        "mcdonalds['Cluster'] = clusters\n",
        "\n",
        "# Fit the regression model with clustered data\n",
        "regressor = LinearRegression()\n",
        "clustered_reg = TransformedTargetRegressor(regressor=regressor,\n",
        "                                           transformer=gmm)\n",
        "clustered_reg.fit(predictors, response)\n",
        "\n",
        "print(clustered_reg)"
      ],
      "metadata": {
        "id": "k6Jx9henrOBR"
      },
      "execution_count": null,
      "outputs": []
    },
    {
      "cell_type": "code",
      "source": [
        "import statsmodels.api as sm\n",
        "\n",
        "MD_ref2 = sm.regression.linear_model.RegressionResults(refit(MD_reg2))\n",
        "print(MD_ref2.summary())"
      ],
      "metadata": {
        "id": "TXGOXt8mrR37"
      },
      "execution_count": null,
      "outputs": []
    },
    {
      "cell_type": "code",
      "source": [
        "plt.plot(MD.ref2)\n",
        "plt.show()"
      ],
      "metadata": {
        "id": "AuXvAB7VrlH6"
      },
      "execution_count": null,
      "outputs": []
    },
    {
      "cell_type": "code",
      "source": [
        "from scipy.cluster.hierarchy import dendrogram, linkage"
      ],
      "metadata": {
        "id": "omaf-uqQsDL1"
      },
      "execution_count": 5,
      "outputs": []
    },
    {
      "cell_type": "code",
      "source": [
        "MD_vclust = linkage(np.transpose(MD_x), method='ward')\n",
        "plt.bar(range(len(MD_k4)), MD_k4, color='gray', align='center')\n",
        "plt.xticks(range(len(MD_k4)), MD_k4)\n",
        "plt.gca().invert_yaxis()\n",
        "plt.show()"
      ],
      "metadata": {
        "id": "KrG_r7wOsD2J"
      },
      "execution_count": null,
      "outputs": []
    },
    {
      "cell_type": "code",
      "source": [
        "MD_proj = MD_pca.transform(MD_x)\n",
        "\n",
        "# Create a scatter plot\n",
        "plt.scatter(MD_proj[:, 0], MD_proj[:, 1], c=MD_k4.labels_)\n",
        "plt.xlabel('Principal Component 1')\n",
        "plt.ylabel('Principal Component 2')\n",
        "\n",
        "# Plot the projection axes\n",
        "proj_axes = MD_pca.components_[:2]\n",
        "for axis in proj_axes:\n",
        "    plt.arrow(0, 0, axis[0], axis[1], color='r', width=0.1)\n",
        "\n",
        "plt.show()"
      ],
      "metadata": {
        "id": "4FbCQhOgsPQ5"
      },
      "execution_count": null,
      "outputs": []
    },
    {
      "cell_type": "code",
      "source": [
        "import seaborn as sns\n",
        "\n",
        "k4 = MD.k4.labels_\n",
        "df = pd.DataFrame({'k4': k4, 'Like': mcdonalds['Like']})\n",
        "sns.mosaicplot(data=df, index=['k4'], columns=['Like'], fill=True, title=\"\", xlabel=\"segment number\")\n"
      ],
      "metadata": {
        "id": "WRzfRc3LsagZ"
      },
      "execution_count": null,
      "outputs": []
    },
    {
      "cell_type": "code",
      "source": [
        "\n",
        "pd.crosstab(k4, mcdonalds['Gender']).apply(lambda r: r/r.sum(), axis=1).plot(kind='bar', stacked=True)\n",
        "plt.show()\n"
      ],
      "metadata": {
        "id": "bI-KzHy5sqpP"
      },
      "execution_count": null,
      "outputs": []
    },
    {
      "cell_type": "code",
      "source": [
        "from sklearn.tree import DecisionTreeClassifier\n",
        "from sklearn import tree"
      ],
      "metadata": {
        "id": "yOJVGu6ds0kD"
      },
      "execution_count": null,
      "outputs": []
    },
    {
      "cell_type": "code",
      "source": [
        "X = mcdonalds[['Like.n', 'Age', 'VisitFrequency', 'Gender']]\n",
        "y = mcdonalds['k4']\n",
        "\n",
        "clf = DecisionTreeClassifier()\n",
        "clf = clf.fit(X, y)\n",
        "\n",
        "fig, ax = plt.subplots(figsize=(12, 12))\n",
        "tree.plot_tree(clf, ax=ax)\n",
        "plt.show()"
      ],
      "metadata": {
        "id": "yoUeqgEss1as"
      },
      "execution_count": null,
      "outputs": []
    },
    {
      "cell_type": "code",
      "source": [
        "visit = np.array(mcdonalds['VisitFrequency']).astype(float)\n",
        "visit = np.mean(visit, axis=0)\n"
      ],
      "metadata": {
        "id": "oEt81Bd0s6Tv"
      },
      "execution_count": null,
      "outputs": []
    },
    {
      "cell_type": "code",
      "source": [
        "like = pd.DataFrame(mcdonalds.groupby(k4)['Like.n'].mean())\n",
        "like\n"
      ],
      "metadata": {
        "id": "P9EDxl-ate8f"
      },
      "execution_count": null,
      "outputs": []
    },
    {
      "cell_type": "code",
      "source": [
        "female = mcdonalds['Gender'].eq('Female').groupby(mcdonalds['k4']).mean()\n"
      ],
      "metadata": {
        "id": "DhSIs50HtvFl"
      },
      "execution_count": null,
      "outputs": []
    },
    {
      "cell_type": "code",
      "source": [
        "visit = [2.5, 3.2, 4.1, 3.7]\n",
        "like = [0.5, -1.2, 2.1, -2.8]\n",
        "female = [0, 1, 1, 0]\n",
        "\n",
        "plt.scatter(visit, like, s=10*np.array(female), alpha=0.5)\n",
        "plt.xlim(2, 4.5)\n",
        "plt.ylim(-3, 3)\n",
        "\n",
        "for i, txt in enumerate(range(1, 5)):\n",
        "    plt.annotate(txt, (visit[i], like[i]))\n",
        "\n",
        "plt.show()"
      ],
      "metadata": {
        "id": "sJxRhJF5uBi2"
      },
      "execution_count": null,
      "outputs": []
    }
  ]
}